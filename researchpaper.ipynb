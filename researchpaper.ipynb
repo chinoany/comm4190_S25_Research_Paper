{
 "cells": [
  {
   "attachments": {},
   "cell_type": "markdown",
   "id": "6b4c8464-731e-4f6c-934c-34267b3a5225",
   "metadata": {},
   "source": [
    "# From Static Plaques to Smart Tracks: How AI Audio Guides Are Personalizing the Museum Visit\n",
    "**By Chinomso Anyadiegwu**\n",
    "\n",
    "## Introduction\n",
    "As you pull out your phone at the Smithsonian American Art Museum, the Smartify app fires off three simple questions asking you to select: language, topics you're interested in, and how much time you have. Seconds later, it generates a custom route and narration. TrendWatching recognized the SAAM as one of the first major museums in the US to implement the tool, and the completion rates for these personalized tours already exceed standard audio guides. The argument has effectively shifted from whether large language model (LLM) narration is appropriate for museums, to what can be achieved in the reimagined visitor experience with this new technology.\n",
    "\n",
    "<img src=\"images/interfacegraphic-4.jpg\" width=300/>\n",
    "\n",
    "*Image from the Smithsonian's National Portrait Gallery website*\n",
    "\n",
    "## How the Personalization Engine Works\n",
    "Kung and Lin's study of AI solutions using the KANO model specifically highlights three \"attractive\" factors - personalized content, immediate feedback, and light interactive play - which correlate with higher visitor satisfaction overall. Smartify rests on that triad. A micro-survey seeds the LLM with your preferences; ubiquitous computer vision lets seconds pass as you scan an artwork for instant object cards; and short in-app surveys keep the curiosity loop active. What might take a live tour guide hours is now done in one second at the touch of a button.\n",
    "\n",
    "<img src=\"images/Screenshot 2025-05-12 at 1.24.38 PM.png\" width=300/>\n",
    "\n",
    "*Image from Smartify x SAAM's *\"Meeting the expectations of a new generation of visitors\"* presentation*\n",
    "\n",
    "## Data and Results\n",
    "\n",
    "In the first 90 days after the guide was launched, Smartify's analytics reported approximately 35,000 unique users, and about one-quarter of them returned to experience a second tour—a significant number for a museum that had not offered an audio program in over five years. These visitors completed 42% of tours started, which is far better than the industry's normal sub-30% completion rate, and in-app surveys provided \"really great\" satisfaction scores. Perhaps even more interestingly, the audience profile changed: where the museum's median in-person visitor is 40.4 years old and over fifty percent are over forty, this digital guide attracted a visitor population that was approximately 70% under forty years of age, and 34% Gen Z. In short, this project did not just add a layer of technology to an existing experience—it also expanded reach, deepened engagement, and dramatically skewed younger, while attracting a healthy percentage of return users.\n",
    "\n",
    "However, personalization means effort. The same Kung and Lin study indicates that adding interactive features can create information fatigue which corresponds with short dwell time. Smartify's own telemetry supports that point—when narration segments are greater than about ninety seconds long, there is a substantial spike in skip taps. Ivanov who followed visitors with bluetooth low energy (BLE) badges noticed the same pattern: dense push narration caused people to speed-walk between stops, logging them as \"quick visitors\" who each spent less than a minute in front of each piece. \n",
    "\n",
    "<img src=\"images/Screenshot 2025-05-12 at 1.23.12 PM.png\" width=300/>\n",
    "\n",
    "*Image from Smartify x SAAM's *\"Meeting the expectations of a new generation of visitors\"* presentation*\n",
    "\n",
    "## Communication Theory Lens\n",
    "Most guests arrive expecting the calm, docent-style voice. Smartify is breaking that mold by blending in casual sidebars, humor, and sound-clips from the artists themselves. Smartify CEO Thanos Kokkiniotis positions these types of moments as the point of entry for genuine engagement. So long as the surprise is relevant - a sidestep to note hidden brushwork, for example - moving away from the script becomes a positive shake-up. When it feels completely random, or when it glosses over important context, the charm flips to distraction, and the phone is back in the pocket.\n",
    "\n",
    "Visitors also value transparency about the provenance of facts. Kung and Lin found experiencing satisfaction increases when systems provide feedback along with fun. Smartify accomplishes this with a tap: every audio stop links to a card that lists catalogue IDs, curator credits, and some provenance essentials. Although a minor design choice, it settles uncertainty without killing the conversational flow and fits snugly with Berger and Calabrese’s Uncertainty Reduction Theory asserting that clarity moderates the jitters of the first encounter.\n",
    "\n",
    "## Recommendations for Future AI-Powered Museum Narrarations\n",
    "1. Keep clips under 90 seconds to avoid overload (Smartify logs, Kung & Lin).\n",
    "2. Add a provenance toggle—especially for contested objects—to reinforce trust (Boiano et al.).\n",
    "3. Offer tone switches (playful vs.  formal) so visitors pick their preferred style.\n",
    "4. Collect thumbs‑up/down feedback but store it locally, mirroring Ivanov’s privacy‑by‑design telemetry model.\n",
    "\n",
    "## Closing Thoughts\n",
    "AI guides can feel just like a friend who knows everything—until they talk too much or leave out something essential. Museums that will thrive in this next chapter will do so with hyper‑personal storytelling, solid sourcing, and smart pacing. If done right, AI narration won't completely replace human guides: it will enhance the multiple ways galleries talk to us and how we converse back.\n"
   ]
  }
 ],
 "metadata": {
  "kernelspec": {
   "display_name": "Python 3-12 (COMM4190)",
   "language": "python",
   "name": "python3-12_comm4190"
  },
  "language_info": {
   "codemirror_mode": {
    "name": "ipython",
    "version": 3
   },
   "file_extension": ".py",
   "mimetype": "text/x-python",
   "name": "python",
   "nbconvert_exporter": "python",
   "pygments_lexer": "ipython3",
   "version": "3.12.8"
  }
 },
 "nbformat": 4,
 "nbformat_minor": 5
}
