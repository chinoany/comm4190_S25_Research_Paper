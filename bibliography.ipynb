{
 "cells": [
  {
   "cell_type": "markdown",
   "id": "32b071d0-0a65-4f63-8d05-1d278fefb762",
   "metadata": {},
   "source": [
    "## Bibliography\n",
    "\n",
    "Smartify. *AI Tours and an AR Game for the Smithsonian American Art Museum.* Smartify, https://partners.smartify.org/projects/ai-tours-and-an-ar-game-for-the-smithsonian-american-art-museum.\n",
    "\n",
    "Kung, Chia‑Hung, and Pang‑Soong Lin. *A Study on the Application of Artificial Intelligence in Interactive Museum Displays and Visitor Perception.* International Journal of Organizational Innovation, vol. 17, no. 2. PDF. https://www.ijoi-online.org/attachments/article/510/1388%20Final.pdf\n",
    "\n",
    "Ivanov, Rosen. *Advanced Visitor Profiling for Personalized Museum Experiences Using Telemetry‑Driven Smart Badges.* Electronics, vol. 13, no. 20 https://www.researchgate.net/publication/384800561_Advanced_Visitor_Profiling_for_Personalized_Museum_Experiences_Using_Telemetry-Driven_Smart_Badges\n",
    "\n",
    "*Uncertainty Reduction Theory.* MastersinCommunications.com, https://www.mastersincommunications.com/research/interpersonal-communication/uncertainty-reduction-theory."
   ]
  }
 ],
 "metadata": {
  "kernelspec": {
   "display_name": "Python 3-12 (COMM4190)",
   "language": "python",
   "name": "python3-12_comm4190"
  },
  "language_info": {
   "codemirror_mode": {
    "name": "ipython",
    "version": 3
   },
   "file_extension": ".py",
   "mimetype": "text/x-python",
   "name": "python",
   "nbconvert_exporter": "python",
   "pygments_lexer": "ipython3",
   "version": "3.12.8"
  }
 },
 "nbformat": 4,
 "nbformat_minor": 5
}
